{
 "cells": [
  {
   "cell_type": "code",
   "execution_count": null,
   "metadata": {},
   "outputs": [],
   "source": [
    "import matplotlib.pyplot as plt\n",
    "import numpy as np\n",
    "import polars as pl\n",
    "import seaborn as sns\n",
    "from sklearn.datasets import fetch_california_housing\n",
    "from sklearn.model_selection import train_test_split\n",
    "from sklearn.linear_model import LinearRegression\n",
    "\n",
    "\n",
    "dataset = fetch_california_housing()"
   ]
  },
  {
   "cell_type": "code",
   "execution_count": null,
   "metadata": {},
   "outputs": [],
   "source": [
    "print(dataset.DESCR)"
   ]
  },
  {
   "cell_type": "code",
   "execution_count": null,
   "metadata": {},
   "outputs": [],
   "source": [
    "df_exp = pl.DataFrame(dataset.data, dataset.feature_names)\n",
    "df_obj = pl.DataFrame(dataset.target, [\"HousingPrices\"])\n",
    "\n",
    "df_total = pl.concat([df_exp, df_obj], how=\"horizontal\")\n",
    "df_total.head()"
   ]
  },
  {
   "cell_type": "code",
   "execution_count": null,
   "metadata": {},
   "outputs": [],
   "source": [
    "plt.figure(figsize=(12, 9))\n",
    "sns.heatmap(df_total.to_pandas().corr(), annot=True, cmap=\"cividis\", fmt=\".2f\", linewidths=0.5, )"
   ]
  },
  {
   "cell_type": "code",
   "execution_count": null,
   "metadata": {},
   "outputs": [],
   "source": [
    "col_exp_var = \"MedInc\"\n",
    "col_obj_var = \"HousingPrices\"\n",
    "\n",
    "fig = plt.figure(figsize=(12, 9))\n",
    "ax = fig.add_subplot()\n",
    "ax.scatter(df_total.select(col_exp_var), df_total.select(col_obj_var))\n",
    "ax.set_xlabel(col_exp_var)\n",
    "ax.set_ylabel(col_obj_var)\n",
    "ax.set_title(\"Califolnia housing scatter\")\n",
    "df_total.select([col_exp_var, col_obj_var]).describe()"
   ]
  },
  {
   "cell_type": "code",
   "execution_count": null,
   "metadata": {},
   "outputs": [],
   "source": [
    "q_95 = df_total.select(col_exp_var).quantile(0.95)\n",
    "df_total_prc = df_total.filter(pl.col(col_exp_var) < q_95)\n",
    "print(\"95%点の分位数: \", q_95)\n",
    "\n",
    "\n",
    "fig = plt.figure(figsize=(12, 9))\n",
    "ax = fig.add_subplot()\n",
    "ax.scatter(df_total_prc.select(col_exp_var), df_total_prc.select(col_obj_var))\n",
    "ax.set_xlabel(col_exp_var)\n",
    "ax.set_ylabel(col_obj_var)\n",
    "ax.set_title(\"Califolnia housing scatter\")\n",
    "df_total_prc.select([col_exp_var, col_obj_var]).describe()"
   ]
  },
  {
   "cell_type": "code",
   "execution_count": null,
   "metadata": {},
   "outputs": [],
   "source": [
    "XY = df_total_prc.select([col_exp_var, col_obj_var]).to_numpy()\n",
    "train_ds, test_ds = train_test_split(XY, test_size=0.3, random_state=42)"
   ]
  },
  {
   "cell_type": "code",
   "execution_count": null,
   "metadata": {},
   "outputs": [],
   "source": [
    "simple_lr = LinearRegression()\n",
    "simple_lr.fit(train_ds[:, 0].reshape(-1, 1), train_ds[:, 1])"
   ]
  },
  {
   "cell_type": "code",
   "execution_count": null,
   "metadata": {},
   "outputs": [],
   "source": [
    "b = simple_lr.intercept_\n",
    "a = simple_lr.coef_[0]\n",
    "r2 = simple_lr.score(train_ds[:, 0].reshape(-1, 1), train_ds[:, 1])\n",
    "\n",
    "print(\"Intercept: \", b)\n",
    "print(\"Regression Coefficient: \", a)\n",
    "print(\"Coefficient of determination: \", r2)\n",
    "print(\"Regression Line: \", f\"y = {a}x + {b}\")"
   ]
  },
  {
   "cell_type": "markdown",
   "metadata": {},
   "source": []
  },
  {
   "cell_type": "code",
   "execution_count": null,
   "metadata": {},
   "outputs": [],
   "source": [
    "fig = plt.figure(figsize=(12, 9))\n",
    "ax = fig.add_subplot()\n",
    "ax.scatter(test_ds[:, 0], test_ds[:, 1], marker=\"o\", facecolor=\"None\", edgecolors=\"red\")\n",
    "ax.scatter(train_ds[:, 0], train_ds[:, 1], marker=\"s\", facecolor=\"None\", edgecolors=\"blue\")\n",
    "ax.set_xlabel(col_exp_var)\n",
    "ax.set_ylabel(col_obj_var)\n",
    "ax.set_title(\"Califolnia housing scatter\")\n",
    "df_total_prc.select([col_exp_var, col_obj_var]).describe()\n",
    "x_range = ax.get_xlim()\n",
    "\n",
    "reg_line = a * np.arange(x_range[0], x_range[1], 0.1) + b\n",
    "\n",
    "ax.plot(np.arange(x_range[0], x_range[1], 0.1), reg_line, color=\"red\")\n",
    "\n",
    "ax.text(0, 0, f\"$R^2={r2:0.3f}$\")\n",
    "\n"
   ]
  }
 ],
 "metadata": {
  "language_info": {
   "name": "python"
  }
 },
 "nbformat": 4,
 "nbformat_minor": 2
}
