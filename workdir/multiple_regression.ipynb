{
 "cells": [
  {
   "cell_type": "code",
   "execution_count": null,
   "metadata": {},
   "outputs": [],
   "source": [
    "from pathlib import Path\n",
    "\n",
    "import matplotlib.pyplot as plt\n",
    "import numpy as np\n",
    "import polars as pl\n",
    "import seaborn as sns\n",
    "from sklearn.metrics import mean_squared_error\n",
    "from sklearn.model_selection import train_test_split\n",
    "from sklearn.linear_model import LinearRegression\n",
    "from sklearn.preprocessing import StandardScaler\n",
    "\n"
   ]
  },
  {
   "cell_type": "markdown",
   "metadata": {},
   "source": [
    "Loading Dataset"
   ]
  },
  {
   "cell_type": "code",
   "execution_count": null,
   "metadata": {},
   "outputs": [],
   "source": [
    "csv_path = \n",
    "df_total = pl.read_csv(csv_path)"
   ]
  },
  {
   "cell_type": "code",
   "execution_count": null,
   "metadata": {},
   "outputs": [],
   "source": [
    "col_exp_vars = [\"Average Orientation (degrees)\", \"Fiber Length Density (1/um)\", \"Mean Fiber Length (nm)\", \"Mean Fiber Width (nm)\"]\n",
    "col_obj_vars = \n",
    "\n",
    "df_exp = df_total[col_exp_vars]\n",
    "df_obj = df_total[col_obj_vars]\n",
    "\n",
    "df_total.head()"
   ]
  },
  {
   "cell_type": "code",
   "execution_count": null,
   "metadata": {},
   "outputs": [],
   "source": [
    "plt.figure(figsize = (12,9))\n",
    "sns.heatmap(\n",
    "    df_total.to_pandas().corr(), annot=True, cmap=\"cividis'\", fmt=\".2f\", linewidths=0.5\n",
    ")"
   ]
  },
  {
   "cell_type": "markdown",
   "metadata": {},
   "source": [
    "Here, the following data preprocessing is performed.\n",
    "#### Step 1. Exclusion of outliers\n",
    "An outlier is data that differs in trend from other data.\n",
    "When outliers are included in the training data, the model tries to read their trends as well, which reduces generalization performance.\n",
    "\n",
    "Therefore, they should be removed.\n",
    "\n",
    "#### Step 2. Convert DataFrame to array\n",
    "This is because label names are not necessary during training and it is sufficient to know which column corresponds to which column.\n",
    "\n",
    "#### Step 3. Separate into training data and test data\n",
    "Train on training data and test generalization performance on test data.\n",
    "\n",
    "#### Step 4. Perform standardization\n",
    "Standardization is to convert the mean to 0 and the variance to 1 within an j.\n",
    "Specifically, the following equation is used for the conversion.\n",
    "$$x_{j_{std}}[i] = \\frac{x_{j}[i] - \\mu_{j}}{\\sqrt{\\sigma^2{_{j}}}}$$\n",
    "where,\n",
    "- $j$ is the item name, \n",
    "- $i$ is the index in the item.\n",
    "- $x_{j}[i]$ is the $i$-th data of item $j$\n",
    "- $\\mu_{j}=\\Sigma_{i=1}^{N} x_{j}[i] / N$ is the mean in term $j$.\n",
    "- $\\sigma^2{_{j}}=\\Sigma_{i=1}^{N} \\left\\{ x_{j}[i] - \\mu_{j} \\right\\}^2 / N$ is the m variance in item $j$.\n",
    "\n",
    "The advantage of standardization is that it allows for comparison by matching item-by-item scales.\n",
    "<details>\n",
    "<summary> Proofs for mean value and variance after standardization </summary>\n",
    "\n",
    "$$\n",
    "\\begin{aligned}\n",
    "\\mu_{j_{std}} &= \\frac{1}{N} \\Sigma_{i=1}^{N} x_{j_{std}}[i]\\\\\n",
    "&= \\frac{1}{N} \\Sigma_{i=1}^{N} \\frac{x_{j}[i] - \\mu_{j}}{\\sqrt{\\sigma^2{_{j}}}}\\\\\n",
    "&= \\frac{1}{\\sqrt{\\sigma^2{_{j}}}} \\left\\{ \n",
    "    \\frac{\\Sigma_{i=1}^{N} x_{j}[i]}{N} - \n",
    "    \\frac{\\Sigma_{i=1}^{N} \\mu_{j}}{N}\n",
    "\\right\\}\\\\\n",
    "&= \\frac{1}{\\sqrt{\\sigma^2{_{j}}}} \\left(\n",
    "    \\mu_{j} - \\mu_{j}\n",
    "\\right)\\\\\n",
    "&= 0\\\\\n",
    "\\end{aligned}\n",
    "$$\n",
    "\n",
    "$$\n",
    "\\begin{aligned}\n",
    "{\\sigma^2}_{j_{std}} &= \\frac{1}{N } \\Sigma_{i=1}^{N} \\left\\{ x_{j_{std}}[i] - \\mu_{j_{std}} \\right\\}^2\\\\\n",
    "&= \\frac{1}{N } \\Sigma_{i=1}^{N} \\left\\{ x_{j_{std}}[i] - 0  \\right\\}^2\\\\\n",
    "&= \\frac{1}{N } \\Sigma_{i=1}^{N} \\left\\{ \\frac{x_{j}[i] - \\mu_{j}}{\\sqrt{\\sigma^2{_{j}}}} \\right\\}^2\\\\\n",
    "&= \\frac{1}{\\sigma^2{_{j}}} \\frac{1}{N } \\Sigma_{i=1}^{N} \\left\\{ x_{j}[i] - \\mu_{j} \\right\\}^2\\\\\n",
    "&= \\frac{1}{\\sigma^2{_{j}}} \\cdot \\sigma^2{_{j}}\\\\\n",
    "&= 1\\\\\n",
    "\\end{aligned}\n",
    "$$\n",
    "</details>\n"
   ]
  },
  {
   "cell_type": "code",
   "execution_count": null,
   "metadata": {},
   "outputs": [],
   "source": [
    "#Step 1: Exclusion of outliers"
   ]
  }
 ],
 "metadata": {
  "language_info": {
   "name": "python"
  }
 },
 "nbformat": 4,
 "nbformat_minor": 2
}
